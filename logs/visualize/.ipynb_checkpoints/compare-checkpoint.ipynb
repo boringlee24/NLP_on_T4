{
 "cells": [
  {
   "cell_type": "code",
   "execution_count": 1,
   "metadata": {},
   "outputs": [],
   "source": [
    "import matplotlib\n",
    "# matplotlib.use('tkAgg')\n",
    "import matplotlib.pyplot as plt\n",
    "import glob\n",
    "import sys\n",
    "from matplotlib.ticker import MultipleLocator\n",
    "import json\n",
    "import os\n",
    "import pandas as pd\n",
    "import numpy as np\n",
    "import pdb\n",
    "from IPython.display import Image"
   ]
  },
  {
   "cell_type": "code",
   "execution_count": 2,
   "metadata": {},
   "outputs": [],
   "source": [
    "schemes = ['naive', 'constant', 'pctrl_66']#, 'pctrl_68', 'pctrl_70']\n",
    "times = [10, 20]"
   ]
  },
  {
   "cell_type": "code",
   "execution_count": 3,
   "metadata": {},
   "outputs": [],
   "source": [
    "processed = {} # number of processed queries in limited time {'naive': [1000,2000...]}\n",
    "\n",
    "for scheme in schemes:\n",
    "    processed[scheme] = []\n",
    "    with open(f'../{scheme}_bert.json') as f:\n",
    "        read = json.load(f)\n",
    "    lats = read.values()\n",
    "    lat_list = []\n",
    "    for lat in lats:\n",
    "        lat_list += lat\n",
    "    times_ind = 0\n",
    "    total_time = 0\n",
    "    cnt = 0\n",
    "    for query in lat_list:\n",
    "        cnt += 1\n",
    "        total_time += query\n",
    "        if total_time >= times[times_ind] * 60:\n",
    "            processed[scheme].append(cnt)\n",
    "            times_ind += 1\n",
    "            if times_ind == len(times):\n",
    "                break\n"
   ]
  },
  {
   "cell_type": "code",
   "execution_count": 4,
   "metadata": {},
   "outputs": [
    {
     "data": {
      "text/plain": [
       "{'naive': [1964, 3896], 'constant': [2062, 4139], 'pctrl_66': [2059, 4078]}"
      ]
     },
     "execution_count": 4,
     "metadata": {},
     "output_type": "execute_result"
    }
   ],
   "source": [
    "processed"
   ]
  },
  {
   "cell_type": "code",
   "execution_count": 17,
   "metadata": {},
   "outputs": [
    {
     "data": {
      "image/png": "[encoded data removed]",
      "text/plain": [
       "<Figure size 504x180 with 2 Axes>"
      ]
     },
     "metadata": {
      "needs_background": "light"
     },
     "output_type": "display_data"
    }
   ],
   "source": [
    "fig, axs = plt.subplots(1, 2, gridspec_kw={'hspace': 0.1, 'wspace': 0.2, 'bottom': 0.13, \n",
    "                                               'top': 0.92, 'right':0.995, 'left':0.17}, figsize=(7,2.5))\n",
    "x = np.arange(len(schemes))\n",
    "labels = ['No_Ctrl', 'Fixed_Clk', 'P_Ctrl']\n",
    "for i in range(2):\n",
    "    data = []\n",
    "    for scheme in schemes:\n",
    "        data.append(processed[scheme][i])\n",
    "    data = [k/data[0] for k in data]\n",
    "    axs[i].bar(x, data, width=0.4, zorder=3)\n",
    "    axs[i].set_xticks(x)\n",
    "    axs[i].set_xticklabels(labels)\n",
    "    axs[i].set_title(f'At {times[i]} Minutes')\n",
    "for ax in axs:\n",
    "    ax.set_ylim(0.8,1.1)\n",
    "    ax.grid(which='major', axis='y', ls='dotted', zorder=0)\n",
    "fig.savefig(f'queries_processed.png', bbox_inches='tight')"
   ]
  },
  {
   "cell_type": "code",
   "execution_count": null,
   "metadata": {},
   "outputs": [],
   "source": []
  }
 ],
 "metadata": {
  "kernelspec": {
   "display_name": "Python 3",
   "language": "python",
   "name": "python3"
  },
  "language_info": {
   "codemirror_mode": {
    "name": "ipython",
    "version": 3
   },
   "file_extension": ".py",
   "mimetype": "text/x-python",
   "name": "python",
   "nbconvert_exporter": "python",
   "pygments_lexer": "ipython3",
   "version": "3.7.9"
  }
 },
 "nbformat": 4,
 "nbformat_minor": 4
}
