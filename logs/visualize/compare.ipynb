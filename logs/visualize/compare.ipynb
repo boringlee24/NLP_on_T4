{
 "cells": [
  {
   "cell_type": "code",
   "execution_count": 1,
   "metadata": {},
   "outputs": [],
   "source": [
    "import matplotlib\n",
    "# matplotlib.use('tkAgg')\n",
    "import matplotlib.pyplot as plt\n",
    "import glob\n",
    "import sys\n",
    "from matplotlib.ticker import MultipleLocator\n",
    "import json\n",
    "import os\n",
    "import pandas as pd\n",
    "import numpy as np\n",
    "import pdb\n",
    "from IPython.display import Image"
   ]
  },
  {
   "cell_type": "code",
   "execution_count": 2,
   "metadata": {},
   "outputs": [],
   "source": [
    "schemes = ['naive', 'constant', 'pctrl_66']#, 'pctrl_68', 'pctrl_70']\n",
    "times = np.arange(0, 20, 1)"
   ]
  },
  {
   "cell_type": "code",
   "execution_count": 3,
   "metadata": {},
   "outputs": [],
   "source": [
    "processed = {} # number of processed queries in limited time {'naive': [1000,2000...]}\n",
    "\n",
    "for scheme in schemes:\n",
    "    processed[scheme] = []\n",
    "    with open(f'../{scheme}_bert.json') as f:\n",
    "        read = json.load(f)\n",
    "    lats = read.values()\n",
    "    lat_list = []\n",
    "    for lat in lats:\n",
    "        lat_list += lat\n",
    "    times_ind = 0\n",
    "    total_time = 0\n",
    "    cnt = 0\n",
    "    for query in lat_list:\n",
    "        cnt += 1\n",
    "        total_time += query\n",
    "        if total_time >= times[times_ind] * 60:\n",
    "            processed[scheme].append(cnt)\n",
    "            times_ind += 1\n",
    "            if times_ind == len(times):\n",
    "                break\n"
   ]
  },
  {
   "cell_type": "code",
   "execution_count": 4,
   "metadata": {},
   "outputs": [
    {
     "data": {
      "text/plain": [
       "{'naive': [1,\n",
       "  198,\n",
       "  408,\n",
       "  611,\n",
       "  804,\n",
       "  996,\n",
       "  1191,\n",
       "  1383,\n",
       "  1578,\n",
       "  1770,\n",
       "  1964,\n",
       "  2158,\n",
       "  2349,\n",
       "  2544,\n",
       "  2735,\n",
       "  2929,\n",
       "  3124,\n",
       "  3316,\n",
       "  3510,\n",
       "  3702],\n",
       " 'constant': [1,\n",
       "  193,\n",
       "  401,\n",
       "  609,\n",
       "  817,\n",
       "  1025,\n",
       "  1231,\n",
       "  1439,\n",
       "  1647,\n",
       "  1855,\n",
       "  2062,\n",
       "  2269,\n",
       "  2477,\n",
       "  2685,\n",
       "  2892,\n",
       "  3100,\n",
       "  3308,\n",
       "  3516,\n",
       "  3724,\n",
       "  3932],\n",
       " 'pctrl_66': [1,\n",
       "  193,\n",
       "  401,\n",
       "  609,\n",
       "  815,\n",
       "  1023,\n",
       "  1231,\n",
       "  1438,\n",
       "  1646,\n",
       "  1851,\n",
       "  2059,\n",
       "  2267,\n",
       "  2475,\n",
       "  2683,\n",
       "  2890,\n",
       "  3098,\n",
       "  3306,\n",
       "  3514,\n",
       "  3721,\n",
       "  3926]}"
      ]
     },
     "execution_count": 4,
     "metadata": {},
     "output_type": "execute_result"
    }
   ],
   "source": [
    "processed"
   ]
  },
  {
   "cell_type": "code",
   "execution_count": 16,
   "metadata": {},
   "outputs": [
    {
     "data": {
      "image/png": "[encoded data removed]",
      "text/plain": [
       "<Figure size 432x180 with 1 Axes>"
      ]
     },
     "metadata": {
      "needs_background": "light"
     },
     "output_type": "display_data"
    }
   ],
   "source": [
    "fig, axs = plt.subplots(1, 1, gridspec_kw={'hspace': 0.1, 'wspace': 0.2, 'bottom': 0.13, \n",
    "                                               'top': 0.92, 'right':0.995, 'left':0.17}, figsize=(6,2.5))\n",
    "# x = np.arange(len(schemes))\n",
    "labels = ['No_Ctrl', 'Fixed_Clk', 'P_Ctrl']\n",
    "style = ['dashed', 'solid', 'dotted']\n",
    "\n",
    "for scheme in schemes:\n",
    "    data = processed[scheme]\n",
    "    ind = schemes.index(scheme)\n",
    "    axs.plot(times, data, zorder=3, label=labels[ind], ls=style[ind], lw=2.)\n",
    "    axs.set_xticks(times)\n",
    "    axs.set_xticklabels(times)\n",
    "#     axs.set_title(f'At {times[i]} Minutes')\n",
    "# axs.set_ylim(0.8,1.1)\n",
    "axs.grid(which='major', axis='both', ls='dotted', zorder=0)\n",
    "axs.legend()\n",
    "axs.set_xlabel('Time (minute)')\n",
    "axs.set_ylabel('Queries Processed')\n",
    "fig.savefig(f'compare.png', bbox_inches='tight')"
   ]
  },
  {
   "cell_type": "code",
   "execution_count": null,
   "metadata": {},
   "outputs": [],
   "source": []
  }
 ],
 "metadata": {
  "kernelspec": {
   "display_name": "Python 3",
   "language": "python",
   "name": "python3"
  },
  "language_info": {
   "codemirror_mode": {
    "name": "ipython",
    "version": 3
   },
   "file_extension": ".py",
   "mimetype": "text/x-python",
   "name": "python",
   "nbconvert_exporter": "python",
   "pygments_lexer": "ipython3",
   "version": "3.7.9"
  }
 },
 "nbformat": 4,
 "nbformat_minor": 4
}
